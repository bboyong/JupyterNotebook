{
 "cells": [
  {
   "cell_type": "markdown",
   "id": "64836277",
   "metadata": {},
   "source": []
  },
  {
   "cell_type": "markdown",
   "id": "53f3b794",
   "metadata": {},
   "source": [
    "# H1: Data Science Tools and Ecosystem"
   ]
  },
  {
   "cell_type": "markdown",
   "id": "a65e8230",
   "metadata": {},
   "source": [
    "In this notebook, Data Science Tools and Ecosystem are summarized."
   ]
  },
  {
   "cell_type": "markdown",
   "id": "110fb03a",
   "metadata": {},
   "source": [
    "**Objectives:**\n",
    "    - List popular languages for Data Science\n",
    "    - Commonly used libraries for Data Science\n",
    "    - Tools used for Data Science\n",
    "    - Arithmetic expressions\n",
    "    - Ordered and Unordered Lists"
   ]
  },
  {
   "cell_type": "markdown",
   "id": "caec6036",
   "metadata": {},
   "source": [
    "1: Data Science Tools and Ecosystem"
   ]
  },
  {
   "cell_type": "markdown",
   "id": "ea22f3cf",
   "metadata": {},
   "source": [
    "Some of the popular languages that Data Scientists use are:\n",
    "    \n",
    "    1. Python\n",
    "    \n",
    "    2. R\n",
    "    \n",
    "    3. SQL\n",
    "    \n",
    "    4. Scala"
   ]
  },
  {
   "cell_type": "markdown",
   "id": "19d790d2",
   "metadata": {},
   "source": [
    "Some of the commonly used libraries used by Data Scientists include:\n",
    "    \n",
    "    1. Pandas\n",
    "    \n",
    "    2. Numpy\n",
    "    \n",
    "    3. SciPy\n",
    "    \n",
    "    4. TensorFlow"
   ]
  },
  {
   "cell_type": "markdown",
   "id": "74b3f61b",
   "metadata": {},
   "source": [
    "|Data Science Tools|\n",
    "|------------------|\n",
    "|IBM Wason Studio|\n",
    "|Jupyter Lab|\n",
    "|MySQL|"
   ]
  },
  {
   "cell_type": "markdown",
   "id": "385a8def",
   "metadata": {},
   "source": [
    "### H3: Below are a few examples of evaluating arithmetic expressions in Python."
   ]
  },
  {
   "cell_type": "code",
   "execution_count": 9,
   "id": "59cfd3a1",
   "metadata": {},
   "outputs": [
    {
     "data": {
      "text/plain": [
       "17"
      ]
     },
     "execution_count": 9,
     "metadata": {},
     "output_type": "execute_result"
    }
   ],
   "source": [
    "#This is simple arithmetic expression to multiply then add integers\n",
    "(3*4)+5"
   ]
  },
  {
   "cell_type": "code",
   "execution_count": 10,
   "id": "03e6d682",
   "metadata": {},
   "outputs": [
    {
     "data": {
      "text/plain": [
       "3.3333333333333335"
      ]
     },
     "execution_count": 10,
     "metadata": {},
     "output_type": "execute_result"
    }
   ],
   "source": [
    "#This will convert 200 minutes to hours by dividing by 60\n",
    "200/60"
   ]
  },
  {
   "cell_type": "markdown",
   "id": "8f51cd1b",
   "metadata": {},
   "source": [
    "## H2: Author\n",
    "    Bryan A. Nicolas"
   ]
  }
 ],
 "metadata": {
  "kernelspec": {
   "display_name": "Python 3 (ipykernel)",
   "language": "python",
   "name": "python3"
  },
  "language_info": {
   "codemirror_mode": {
    "name": "ipython",
    "version": 3
   },
   "file_extension": ".py",
   "mimetype": "text/x-python",
   "name": "python",
   "nbconvert_exporter": "python",
   "pygments_lexer": "ipython3",
   "version": "3.11.4"
  }
 },
 "nbformat": 4,
 "nbformat_minor": 5
}
